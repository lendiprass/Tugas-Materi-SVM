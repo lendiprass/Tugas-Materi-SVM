{
 "cells": [
  {
   "cell_type": "code",
   "execution_count": 2,
   "id": "1c752078-ddd0-4ff8-b2e4-fdbc816905bb",
   "metadata": {},
   "outputs": [
    {
     "data": {
      "text/plain": [
       "(70000, 784)"
      ]
     },
     "execution_count": 2,
     "metadata": {},
     "output_type": "execute_result"
    }
   ],
   "source": [
    "#KOODINGAN DATASET : THE MNIST DATABASE OF HANDWRITTEN DIGITS\n",
    "\n",
    "from sklearn.datasets import fetch_openml\n",
    "\n",
    "X, y = fetch_openml('mnist_784', data_home='./dataset/mnist', return_X_y=True)\n",
    "X.shape"
   ]
  },
  {
   "cell_type": "code",
   "execution_count": null,
   "id": "12749935-c634-4028-ba1c-962a19c3b97f",
   "metadata": {},
   "outputs": [],
   "source": [
    "import matplotlib.pyplot as plt\n",
    "import matplotib.cm as cm\n",
    "\n",
    "pos = 1\n",
    "for data in x[:8]:\n",
    "    plt.subplot((1, 8, pos)\n",
    "    plt.imshow((data.reshape((28, 28));\n",
    "                cmap=cm.Greys_r)\n",
    "    plt.axis('off')\n",
    "    pos += 1\n",
    "               \n",
    "plt.show()"
   ]
  },
  {
   "cell_type": "code",
   "execution_count": null,
   "id": "52d56928-8be3-4f5c-b92f-4e93dbdbb7f2",
   "metadata": {},
   "outputs": [],
   "source": [
    "y[:8]"
   ]
  },
  {
   "cell_type": "code",
   "execution_count": null,
   "id": "2777bbf2-7e58-44b6-beed-4a6c1159602b",
   "metadata": {},
   "outputs": [],
   "source": [
    "# X_train = X[60000:]\n",
    "# X_train = y[60000:]\n",
    "# X_test = X[:60000]\n",
    "# X_test = y[:60000]\n",
    "\n",
    "X_train = x[:1000]\n",
    "y_train = y[:1000]\n",
    "X_test = X[69000:]\n",
    "y_test = y[69000:]"
   ]
  }
 ],
 "metadata": {
  "kernelspec": {
   "display_name": "Python 3 (ipykernel)",
   "language": "python",
   "name": "python3"
  },
  "language_info": {
   "codemirror_mode": {
    "name": "ipython",
    "version": 3
   },
   "file_extension": ".py",
   "mimetype": "text/x-python",
   "name": "python",
   "nbconvert_exporter": "python",
   "pygments_lexer": "ipython3",
   "version": "3.9.10"
  }
 },
 "nbformat": 4,
 "nbformat_minor": 5
}
